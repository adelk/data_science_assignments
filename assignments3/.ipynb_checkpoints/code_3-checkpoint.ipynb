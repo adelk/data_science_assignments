{
 "cells": [
  {
   "cell_type": "code",
   "execution_count": 3,
   "id": "3edf787c",
   "metadata": {},
   "outputs": [
    {
     "name": "stdout",
     "output_type": "stream",
     "text": [
      "Hello\n",
      "20\n"
     ]
    }
   ],
   "source": [
    "# statement 1\n",
    "print('Hello')\n",
    "\n",
    "# statement 2\n",
    "x = 20\n",
    "\n",
    "# statement 3\n",
    "print(x)\n"
   ]
  },
  {
   "cell_type": "code",
   "execution_count": 4,
   "id": "20bfcc69",
   "metadata": {},
   "outputs": [
    {
     "name": "stdout",
     "output_type": "stream",
     "text": [
      "Area of rectangle: 50\n"
     ]
    }
   ],
   "source": [
    "# two statements in a single\n",
    "l = 10; b = 5\n",
    "\n",
    "# statement 3\n",
    "print('Area of rectangle:', l * b)\n",
    "\n",
    "# Output Area of rectangle: 50"
   ]
  },
  {
   "cell_type": "code",
   "execution_count": 5,
   "id": "5c5040ae",
   "metadata": {},
   "outputs": [
    {
     "name": "stdout",
     "output_type": "stream",
     "text": [
      "280\n"
     ]
    }
   ],
   "source": [
    "addition = 10 + 20 + \\\n",
    "           30 + 40 + \\\n",
    "           50 + 60 + 70\n",
    "print(addition)\n",
    "# Output: 280\n"
   ]
  },
  {
   "cell_type": "code",
   "execution_count": 6,
   "id": "904abfdf",
   "metadata": {},
   "outputs": [
    {
     "name": "stdout",
     "output_type": "stream",
     "text": [
      "280\n"
     ]
    }
   ],
   "source": [
    "addition = (10 + 20 +\n",
    "            30 + 40 +\n",
    "            50 + 60 + 70)\n",
    "print(addition)\n",
    "# Output: 280"
   ]
  },
  {
   "cell_type": "code",
   "execution_count": 7,
   "id": "ee5f91ae",
   "metadata": {},
   "outputs": [
    {
     "name": "stdout",
     "output_type": "stream",
     "text": [
      "['Emma', 'Kelly', 'Jessa']\n",
      "{'Emma': 70, 'Kelly': 65, 'Jessa': 75}\n"
     ]
    }
   ],
   "source": [
    "# list of strings\n",
    "names = ['Emma',\n",
    "         'Kelly',\n",
    "         'Jessa']\n",
    "print(names)\n",
    "\n",
    "# dictionary name as a key and mark as a value\n",
    "# string:int\n",
    "students = {'Emma': 70,\n",
    "            'Kelly': 65,\n",
    "            'Jessa': 75}\n",
    "print(students)"
   ]
  },
  {
   "cell_type": "code",
   "execution_count": 8,
   "id": "73a22bcb",
   "metadata": {},
   "outputs": [],
   "source": [
    "x = 5\n",
    "# right hand side of = is a expression statement\n",
    "\n",
    "# x = x + 10 is a complete statement\n",
    "x = x + 10"
   ]
  },
  {
   "cell_type": "code",
   "execution_count": 9,
   "id": "cbc75429",
   "metadata": {},
   "outputs": [],
   "source": [
    "# create a function\n",
    "def fun1(arg):\n",
    "    pass  # a function that does nothing (yet)\n"
   ]
  },
  {
   "cell_type": "code",
   "execution_count": 10,
   "id": "7c42655e",
   "metadata": {},
   "outputs": [
    {
     "name": "stdout",
     "output_type": "stream",
     "text": [
      "10 30\n"
     ]
    },
    {
     "ename": "NameError",
     "evalue": "name 'x' is not defined",
     "output_type": "error",
     "traceback": [
      "\u001b[1;31m---------------------------------------------------------------------------\u001b[0m",
      "\u001b[1;31mNameError\u001b[0m                                 Traceback (most recent call last)",
      "Cell \u001b[1;32mIn[10], line 9\u001b[0m\n\u001b[0;32m      6\u001b[0m \u001b[38;5;28;01mdel\u001b[39;00m x, y\n\u001b[0;32m      8\u001b[0m \u001b[38;5;66;03m# try to access it\u001b[39;00m\n\u001b[1;32m----> 9\u001b[0m \u001b[38;5;28mprint\u001b[39m(x, y)\n",
      "\u001b[1;31mNameError\u001b[0m: name 'x' is not defined"
     ]
    }
   ],
   "source": [
    "x = 10\n",
    "y = 30\n",
    "print(x, y)\n",
    "\n",
    "# delete x and y\n",
    "del x, y\n",
    "\n",
    "# try to access it\n",
    "print(x, y)"
   ]
  },
  {
   "cell_type": "code",
   "execution_count": 11,
   "id": "635e3288",
   "metadata": {},
   "outputs": [
    {
     "name": "stdout",
     "output_type": "stream",
     "text": [
      "30\n"
     ]
    }
   ],
   "source": [
    "# Define a function\n",
    "# function acceptts two numbers and return their sum\n",
    "def addition(num1, num2):\n",
    "    return num1 + num2  # return the sum of two numbers\n",
    "\n",
    "# result is the return value\n",
    "result = addition(10, 20)\n",
    "print(result)\n"
   ]
  },
  {
   "cell_type": "code",
   "execution_count": 12,
   "id": "51d99743",
   "metadata": {},
   "outputs": [
    {
     "name": "stdout",
     "output_type": "stream",
     "text": [
      "2023-10-07 02:51:05.511152\n"
     ]
    }
   ],
   "source": [
    "import datetime\n",
    "\n",
    "# get current datetime\n",
    "now = datetime.datetime.now()\n",
    "print(now)"
   ]
  },
  {
   "cell_type": "code",
   "execution_count": 1,
   "id": "9aa2a952",
   "metadata": {},
   "outputs": [
    {
     "name": "stdout",
     "output_type": "stream",
     "text": [
      "Sum: 30\n"
     ]
    }
   ],
   "source": [
    "x = 10\n",
    "y = 20\n",
    "\n",
    "# adding two numbers\n",
    "z = x + y\n",
    "print('Sum:', z)\n",
    "\n",
    "# Output 30\n"
   ]
  },
  {
   "cell_type": "code",
   "execution_count": 2,
   "id": "3e326963",
   "metadata": {},
   "outputs": [
    {
     "name": "stdout",
     "output_type": "stream",
     "text": [
      "Welcome to PYnative...\n"
     ]
    }
   ],
   "source": [
    "# welcome message\n",
    "print('Welcome to PYnative...')"
   ]
  },
  {
   "cell_type": "code",
   "execution_count": 3,
   "id": "a32f7ea2",
   "metadata": {},
   "outputs": [
    {
     "name": "stdout",
     "output_type": "stream",
     "text": [
      "Welcome to PYnative...\n"
     ]
    }
   ],
   "source": [
    "# This is a\n",
    "# multiline\n",
    "# comment\n",
    "print('Welcome to PYnative...')"
   ]
  },
  {
   "cell_type": "code",
   "execution_count": 4,
   "id": "125f5cc2",
   "metadata": {},
   "outputs": [
    {
     "name": "stdout",
     "output_type": "stream",
     "text": [
      "Hello Jessa\n"
     ]
    }
   ],
   "source": [
    "# Returns welcome message for a customer by customer name and location\n",
    "# param name - Name of the customer\n",
    "# param region - location\n",
    "# return - Welcome message\n",
    "\n",
    "def greet(name, region):\n",
    "    message = get_message(region)\n",
    "    return message + \" \" + name\n",
    "\n",
    "\n",
    "# Returns welcome message by location\n",
    "# param region - location\n",
    "def get_message(region):\n",
    "    if (region == 'USA'):\n",
    "        return 'Hello'\n",
    "    elif (region == 'India'):\n",
    "        return 'Namaste'\n",
    "\n",
    "print(greet('Jessa', 'USA'))\n"
   ]
  },
  {
   "cell_type": "code",
   "execution_count": 5,
   "id": "7995e215",
   "metadata": {},
   "outputs": [],
   "source": [
    "# Returns welcome message for a customer by customer name and location\n",
    "# param name - Name of the customer\n",
    "# param region - location\n",
    "# return - Welcome message\n",
    "\n",
    "def greet(name, region):\n",
    "    message = get_message(region)\n",
    "    return message + \" \" + name"
   ]
  },
  {
   "cell_type": "code",
   "execution_count": 6,
   "id": "342596da",
   "metadata": {},
   "outputs": [],
   "source": [
    "def bonus(salary):\n",
    "    \"\"\"Calculate the bonus 10% of a salary .\"\"\"\n",
    "    return salary * 10 / 100"
   ]
  },
  {
   "cell_type": "code",
   "execution_count": 7,
   "id": "fb9fabc4",
   "metadata": {},
   "outputs": [
    {
     "name": "stdout",
     "output_type": "stream",
     "text": [
      "Hello Jessa\n"
     ]
    }
   ],
   "source": [
    "def greet(name, region):\n",
    "    # below code is comment for testing\n",
    "    # message = get_message(region)\n",
    "    message= 'Hello'\n",
    "    return message + \" \" + name\n",
    "\n",
    "def get_message(region):\n",
    "    if (region == 'USA'):\n",
    "        return 'Hello'\n",
    "    elif (region == 'India'):\n",
    "        return 'Namaste'\n",
    "\n",
    "print(greet('Jessa', 'USA'))\n"
   ]
  },
  {
   "cell_type": "code",
   "execution_count": 8,
   "id": "ddea503e",
   "metadata": {},
   "outputs": [
    {
     "name": "stdout",
     "output_type": "stream",
     "text": [
      "['False', 'None', 'True', 'and', 'as', 'assert', 'async', 'await', 'break', 'class', 'continue', 'def', 'del', 'elif', 'else', 'except', 'finally', 'for', 'from', 'global', 'if', 'import', 'in', 'is', 'lambda', 'nonlocal', 'not', 'or', 'pass', 'raise', 'return', 'try', 'while', 'with', 'yield']\n"
     ]
    }
   ],
   "source": [
    "import keyword\n",
    "print(keyword.kwlist)"
   ]
  },
  {
   "cell_type": "code",
   "execution_count": 9,
   "id": "76fb57e3",
   "metadata": {},
   "outputs": [
    {
     "name": "stdout",
     "output_type": "stream",
     "text": [
      "\n",
      "Here is a list of the Python keywords.  Enter any keyword to get more help.\n",
      "\n",
      "False               class               from                or\n",
      "None                continue            global              pass\n",
      "True                def                 if                  raise\n",
      "and                 del                 import              return\n",
      "as                  elif                in                  try\n",
      "assert              else                is                  while\n",
      "async               except              lambda              with\n",
      "await               finally             nonlocal            yield\n",
      "break               for                 not                 \n",
      "\n"
     ]
    }
   ],
   "source": [
    "help(\"keywords\")"
   ]
  },
  {
   "cell_type": "code",
   "execution_count": 10,
   "id": "c36be438",
   "metadata": {},
   "outputs": [
    {
     "name": "stdout",
     "output_type": "stream",
     "text": [
      "The \"if\" statement\n",
      "******************\n",
      "\n",
      "The \"if\" statement is used for conditional execution:\n",
      "\n",
      "   if_stmt ::= \"if\" assignment_expression \":\" suite\n",
      "               (\"elif\" assignment_expression \":\" suite)*\n",
      "               [\"else\" \":\" suite]\n",
      "\n",
      "It selects exactly one of the suites by evaluating the expressions one\n",
      "by one until one is found to be true (see section Boolean operations\n",
      "for the definition of true and false); then that suite is executed\n",
      "(and no other part of the \"if\" statement is executed or evaluated).\n",
      "If all expressions are false, the suite of the \"else\" clause, if\n",
      "present, is executed.\n",
      "\n",
      "Related help topics: TRUTHVALUE\n",
      "\n",
      "None\n"
     ]
    }
   ],
   "source": [
    "print(help('if'))"
   ]
  },
  {
   "cell_type": "code",
   "execution_count": 11,
   "id": "1d8a170b",
   "metadata": {},
   "outputs": [
    {
     "name": "stdout",
     "output_type": "stream",
     "text": [
      "True\n",
      "False\n"
     ]
    }
   ],
   "source": [
    "import keyword\n",
    "\n",
    "print(keyword.iskeyword('if'))\n",
    "print(keyword.iskeyword('range'))"
   ]
  },
  {
   "cell_type": "code",
   "execution_count": 12,
   "id": "2d782240",
   "metadata": {},
   "outputs": [
    {
     "name": "stdout",
     "output_type": "stream",
     "text": [
      "True\n"
     ]
    }
   ],
   "source": [
    "x = 25\n",
    "y = 20\n",
    "\n",
    "z = x > y\n",
    "print(z)  # True\n"
   ]
  },
  {
   "cell_type": "code",
   "execution_count": 13,
   "id": "d4a28f8a",
   "metadata": {},
   "outputs": [
    {
     "name": "stdout",
     "output_type": "stream",
     "text": [
      "15\n",
      "15\n"
     ]
    }
   ],
   "source": [
    "x = 10\n",
    "y = 20\n",
    "\n",
    "# and to combine to conditions\n",
    "# both need to be true to execute if block\n",
    "if x > 5 and y < 25:\n",
    "    print(x + 5)\n",
    "\n",
    "# or condition\n",
    "# at least 1 need to be true to execute if block\n",
    "if x > 5 or y < 100:\n",
    "    print(x + 5)\n",
    "\n",
    "# not condition\n",
    "# condition must be false\n",
    "if not x:\n",
    "    print(x + 5)"
   ]
  },
  {
   "cell_type": "code",
   "execution_count": 14,
   "id": "2e12f064",
   "metadata": {},
   "outputs": [
    {
     "name": "stdout",
     "output_type": "stream",
     "text": [
      "False\n",
      "True\n"
     ]
    }
   ],
   "source": [
    "# is keyword demo\n",
    "x = 10\n",
    "y = 11 \n",
    "z = 10\n",
    "print(x is y) # it compare memory address of x and y \n",
    "print(x is z) # it compare memory address of x and z"
   ]
  },
  {
   "cell_type": "code",
   "execution_count": 15,
   "id": "485afab9",
   "metadata": {},
   "outputs": [
    {
     "name": "stdout",
     "output_type": "stream",
     "text": [
      "number is present\n"
     ]
    }
   ],
   "source": [
    "my_list = [11, 15, 21, 29, 50, 70]\n",
    "number = 15\n",
    "if number in my_list:\n",
    "    print(\"number is present\")\n",
    "else:\n",
    "    print(\"number is not present\")"
   ]
  },
  {
   "cell_type": "code",
   "execution_count": 16,
   "id": "d3dd0f83",
   "metadata": {},
   "outputs": [
    {
     "name": "stdout",
     "output_type": "stream",
     "text": [
      "x is greater than 50 but less than 100\n"
     ]
    }
   ],
   "source": [
    "x = 75\n",
    "if x > 100:\n",
    "    print('x is greater than 100')\n",
    "elif x > 50:\n",
    "    print('x is greater than 50 but less than 100')\n",
    "else:\n",
    "    print('x is less than 50')"
   ]
  },
  {
   "cell_type": "code",
   "execution_count": 17,
   "id": "672d7ca7",
   "metadata": {},
   "outputs": [
    {
     "name": "stdout",
     "output_type": "stream",
     "text": [
      "for loop to display first 5 numbers\n",
      "0 1 2 3 4 while loop to display first 5 numbers\n",
      "0 1 2 3 4 "
     ]
    }
   ],
   "source": [
    "print('for loop to display first 5 numbers')\n",
    "for i in range(5):\n",
    "    print(i, end=' ')\n",
    "\n",
    "print('while loop to display first 5 numbers')\n",
    "n = 0\n",
    "while n < 5:\n",
    "    print(n, end=' ')\n",
    "    n = n + 1"
   ]
  },
  {
   "cell_type": "code",
   "execution_count": 19,
   "id": "4d7f03dd",
   "metadata": {},
   "outputs": [
    {
     "name": "stdout",
     "output_type": "stream",
     "text": [
      "Sum is 30\n"
     ]
    }
   ],
   "source": [
    "# def keyword: create function\n",
    "def addition(num1, num2):\n",
    "    print('Sum is', num1 + num2)\n",
    "\n",
    "# call function\n",
    "addition(10, 20)"
   ]
  },
  {
   "cell_type": "code",
   "execution_count": 20,
   "id": "3ec47a7d",
   "metadata": {},
   "outputs": [],
   "source": [
    "# pass keyword: create syntactically empty function\n",
    "# code to add in future\n",
    "def sub(num1, num2):\n",
    "    pass"
   ]
  },
  {
   "cell_type": "code",
   "execution_count": 21,
   "id": "d843ac88",
   "metadata": {},
   "outputs": [
    {
     "name": "stdout",
     "output_type": "stream",
     "text": [
      "Jessa 19\n"
     ]
    }
   ],
   "source": [
    "# create class\n",
    "class Student:\n",
    "    def __init__(self, name, age):\n",
    "        self.name = name\n",
    "        self.age = age\n",
    "\n",
    "    def show(self):\n",
    "        print(self.name, self.age)\n",
    "\n",
    "\n",
    "# create object\n",
    "s = Student('Jessa', 19)\n",
    "# call method\n",
    "s.show()"
   ]
  },
  {
   "cell_type": "code",
   "execution_count": 22,
   "id": "89ccec3a",
   "metadata": {},
   "outputs": [
    {
     "ename": "FileNotFoundError",
     "evalue": "[Errno 2] No such file or directory: 'sample.txt'",
     "output_type": "error",
     "traceback": [
      "\u001b[1;31m---------------------------------------------------------------------------\u001b[0m",
      "\u001b[1;31mFileNotFoundError\u001b[0m                         Traceback (most recent call last)",
      "Cell \u001b[1;32mIn[22], line 2\u001b[0m\n\u001b[0;32m      1\u001b[0m \u001b[38;5;66;03m# Opening file\u001b[39;00m\n\u001b[1;32m----> 2\u001b[0m \u001b[38;5;28;01mwith\u001b[39;00m \u001b[38;5;28mopen\u001b[39m(\u001b[38;5;124m'\u001b[39m\u001b[38;5;124msample.txt\u001b[39m\u001b[38;5;124m'\u001b[39m, \u001b[38;5;124m'\u001b[39m\u001b[38;5;124mr\u001b[39m\u001b[38;5;124m'\u001b[39m, encoding\u001b[38;5;241m=\u001b[39m\u001b[38;5;124m'\u001b[39m\u001b[38;5;124mutf-8\u001b[39m\u001b[38;5;124m'\u001b[39m) \u001b[38;5;28;01mas\u001b[39;00m fp:\n\u001b[0;32m      3\u001b[0m     \u001b[38;5;66;03m# read sample.txt\u001b[39;00m\n\u001b[0;32m      4\u001b[0m     \u001b[38;5;28mprint\u001b[39m(fp\u001b[38;5;241m.\u001b[39mread())\n",
      "File \u001b[1;32m~\\anaconda3\\Lib\\site-packages\\IPython\\core\\interactiveshell.py:286\u001b[0m, in \u001b[0;36m_modified_open\u001b[1;34m(file, *args, **kwargs)\u001b[0m\n\u001b[0;32m    279\u001b[0m \u001b[38;5;28;01mif\u001b[39;00m file \u001b[38;5;129;01min\u001b[39;00m {\u001b[38;5;241m0\u001b[39m, \u001b[38;5;241m1\u001b[39m, \u001b[38;5;241m2\u001b[39m}:\n\u001b[0;32m    280\u001b[0m     \u001b[38;5;28;01mraise\u001b[39;00m \u001b[38;5;167;01mValueError\u001b[39;00m(\n\u001b[0;32m    281\u001b[0m         \u001b[38;5;124mf\u001b[39m\u001b[38;5;124m\"\u001b[39m\u001b[38;5;124mIPython won\u001b[39m\u001b[38;5;124m'\u001b[39m\u001b[38;5;124mt let you open fd=\u001b[39m\u001b[38;5;132;01m{\u001b[39;00mfile\u001b[38;5;132;01m}\u001b[39;00m\u001b[38;5;124m by default \u001b[39m\u001b[38;5;124m\"\u001b[39m\n\u001b[0;32m    282\u001b[0m         \u001b[38;5;124m\"\u001b[39m\u001b[38;5;124mas it is likely to crash IPython. If you know what you are doing, \u001b[39m\u001b[38;5;124m\"\u001b[39m\n\u001b[0;32m    283\u001b[0m         \u001b[38;5;124m\"\u001b[39m\u001b[38;5;124myou can use builtins\u001b[39m\u001b[38;5;124m'\u001b[39m\u001b[38;5;124m open.\u001b[39m\u001b[38;5;124m\"\u001b[39m\n\u001b[0;32m    284\u001b[0m     )\n\u001b[1;32m--> 286\u001b[0m \u001b[38;5;28;01mreturn\u001b[39;00m io_open(file, \u001b[38;5;241m*\u001b[39margs, \u001b[38;5;241m*\u001b[39m\u001b[38;5;241m*\u001b[39mkwargs)\n",
      "\u001b[1;31mFileNotFoundError\u001b[0m: [Errno 2] No such file or directory: 'sample.txt'"
     ]
    }
   ],
   "source": [
    "# Opening file\n",
    "with open('sample.txt', 'r', encoding='utf-8') as fp:\n",
    "    # read sample.txt\n",
    "    print(fp.read())"
   ]
  },
  {
   "cell_type": "code",
   "execution_count": 23,
   "id": "a9aba4d5",
   "metadata": {},
   "outputs": [
    {
     "ename": "FileNotFoundError",
     "evalue": "[Errno 2] No such file or directory: 'sample.txt'",
     "output_type": "error",
     "traceback": [
      "\u001b[1;31m---------------------------------------------------------------------------\u001b[0m",
      "\u001b[1;31mFileNotFoundError\u001b[0m                         Traceback (most recent call last)",
      "Cell \u001b[1;32mIn[23], line 2\u001b[0m\n\u001b[0;32m      1\u001b[0m \u001b[38;5;66;03m# Opening file\u001b[39;00m\n\u001b[1;32m----> 2\u001b[0m \u001b[38;5;28;01mwith\u001b[39;00m \u001b[38;5;28mopen\u001b[39m(\u001b[38;5;124m'\u001b[39m\u001b[38;5;124msample.txt\u001b[39m\u001b[38;5;124m'\u001b[39m, \u001b[38;5;124m'\u001b[39m\u001b[38;5;124mr\u001b[39m\u001b[38;5;124m'\u001b[39m, encoding\u001b[38;5;241m=\u001b[39m\u001b[38;5;124m'\u001b[39m\u001b[38;5;124mutf-8\u001b[39m\u001b[38;5;124m'\u001b[39m) \u001b[38;5;28;01mas\u001b[39;00m fp:\n\u001b[0;32m      3\u001b[0m     \u001b[38;5;66;03m# read sample.txt\u001b[39;00m\n\u001b[0;32m      4\u001b[0m     \u001b[38;5;28mprint\u001b[39m(fp\u001b[38;5;241m.\u001b[39mread())\n",
      "File \u001b[1;32m~\\anaconda3\\Lib\\site-packages\\IPython\\core\\interactiveshell.py:286\u001b[0m, in \u001b[0;36m_modified_open\u001b[1;34m(file, *args, **kwargs)\u001b[0m\n\u001b[0;32m    279\u001b[0m \u001b[38;5;28;01mif\u001b[39;00m file \u001b[38;5;129;01min\u001b[39;00m {\u001b[38;5;241m0\u001b[39m, \u001b[38;5;241m1\u001b[39m, \u001b[38;5;241m2\u001b[39m}:\n\u001b[0;32m    280\u001b[0m     \u001b[38;5;28;01mraise\u001b[39;00m \u001b[38;5;167;01mValueError\u001b[39;00m(\n\u001b[0;32m    281\u001b[0m         \u001b[38;5;124mf\u001b[39m\u001b[38;5;124m\"\u001b[39m\u001b[38;5;124mIPython won\u001b[39m\u001b[38;5;124m'\u001b[39m\u001b[38;5;124mt let you open fd=\u001b[39m\u001b[38;5;132;01m{\u001b[39;00mfile\u001b[38;5;132;01m}\u001b[39;00m\u001b[38;5;124m by default \u001b[39m\u001b[38;5;124m\"\u001b[39m\n\u001b[0;32m    282\u001b[0m         \u001b[38;5;124m\"\u001b[39m\u001b[38;5;124mas it is likely to crash IPython. If you know what you are doing, \u001b[39m\u001b[38;5;124m\"\u001b[39m\n\u001b[0;32m    283\u001b[0m         \u001b[38;5;124m\"\u001b[39m\u001b[38;5;124myou can use builtins\u001b[39m\u001b[38;5;124m'\u001b[39m\u001b[38;5;124m open.\u001b[39m\u001b[38;5;124m\"\u001b[39m\n\u001b[0;32m    284\u001b[0m     )\n\u001b[1;32m--> 286\u001b[0m \u001b[38;5;28;01mreturn\u001b[39;00m io_open(file, \u001b[38;5;241m*\u001b[39margs, \u001b[38;5;241m*\u001b[39m\u001b[38;5;241m*\u001b[39mkwargs)\n",
      "\u001b[1;31mFileNotFoundError\u001b[0m: [Errno 2] No such file or directory: 'sample.txt'"
     ]
    }
   ],
   "source": [
    "# Opening file\n",
    "with open('sample.txt', 'r', encoding='utf-8') as fp:\n",
    "    # read sample.txt\n",
    "    print(fp.read())"
   ]
  },
  {
   "cell_type": "code",
   "execution_count": 24,
   "id": "abdf4a65",
   "metadata": {},
   "outputs": [
    {
     "name": "stdout",
     "output_type": "stream",
     "text": [
      "2023-10-07 02:57:56.344015\n"
     ]
    }
   ],
   "source": [
    "# import only datetime class\n",
    "from datetime import datetime\n",
    "\n",
    "# get current datetime\n",
    "now = datetime.now()\n",
    "print(now)\n"
   ]
  },
  {
   "cell_type": "code",
   "execution_count": 25,
   "id": "594b9227",
   "metadata": {},
   "outputs": [
    {
     "name": "stdout",
     "output_type": "stream",
     "text": [
      "Sum: 30\n"
     ]
    }
   ],
   "source": [
    "def addition(num1, num2):\n",
    "    return num1 + num2  # return sum of two number\n",
    "\n",
    "# call function\n",
    "print('Sum:', addition(10, 20))\n"
   ]
  },
  {
   "cell_type": "code",
   "execution_count": 26,
   "id": "49496b3c",
   "metadata": {},
   "outputs": [
    {
     "name": "stdout",
     "output_type": "stream",
     "text": [
      "price in 1st function : 900\n",
      "price in 2nd function : 900\n"
     ]
    }
   ],
   "source": [
    "price = 900  # Global variable\n",
    "\n",
    "def test1():  # defining 1st function\n",
    "    print(\"price in 1st function :\", price)  # 900\n",
    "\n",
    "def test2():  # defining 2nd function\n",
    "    print(\"price in 2nd function :\", price)  # 900\n",
    "\n",
    "# call functions\n",
    "test1()\n",
    "test2()\n",
    "\n",
    "# delete variable\n",
    "del price"
   ]
  },
  {
   "cell_type": "code",
   "execution_count": 27,
   "id": "c7fba6b9",
   "metadata": {},
   "outputs": [
    {
     "name": "stdout",
     "output_type": "stream",
     "text": [
      "50\n"
     ]
    }
   ],
   "source": [
    "x = 10\n",
    "y = 40\n",
    "print(x + y)\n",
    "# Output 50"
   ]
  },
  {
   "cell_type": "code",
   "execution_count": 28,
   "id": "7656d7d2",
   "metadata": {},
   "outputs": [
    {
     "name": "stdout",
     "output_type": "stream",
     "text": [
      "Ault Kelly\n"
     ]
    }
   ],
   "source": [
    "name = \"Kelly\"\n",
    "surname = \"Ault\"\n",
    "print(surname + \" \" + name)\n",
    "# Output Ault Kelly"
   ]
  },
  {
   "cell_type": "code",
   "execution_count": 29,
   "id": "99b9215f",
   "metadata": {},
   "outputs": [
    {
     "name": "stdout",
     "output_type": "stream",
     "text": [
      "30\n"
     ]
    }
   ],
   "source": [
    "x = 10\n",
    "y = 40\n",
    "print(y - x)\n",
    "# Output 30"
   ]
  },
  {
   "cell_type": "code",
   "execution_count": 30,
   "id": "7b48f75e",
   "metadata": {},
   "outputs": [
    {
     "name": "stdout",
     "output_type": "stream",
     "text": [
      "8\n",
      "40\n"
     ]
    }
   ],
   "source": [
    "x = 2\n",
    "y = 4\n",
    "z = 5\n",
    "print(x * y)\n",
    "# Output 8 (2*4)\n",
    "print(x * y * z)\n",
    "# Output 40 (2*4*5)"
   ]
  },
  {
   "cell_type": "code",
   "execution_count": 31,
   "id": "6156629f",
   "metadata": {},
   "outputs": [
    {
     "name": "stdout",
     "output_type": "stream",
     "text": [
      "JessaJessaJessa\n"
     ]
    }
   ],
   "source": [
    "name = \"Jessa\"\n",
    "print(name * 3)\n",
    "# Output JessaJessaJessa"
   ]
  },
  {
   "cell_type": "code",
   "execution_count": 32,
   "id": "3de73d9b",
   "metadata": {},
   "outputs": [
    {
     "name": "stdout",
     "output_type": "stream",
     "text": [
      "2.0\n",
      "1.0\n"
     ]
    }
   ],
   "source": [
    "x = 2\n",
    "y = 4\n",
    "z = 8\n",
    "print(y / x)\n",
    "# Output 2.0\n",
    "print(z / y / x)\n",
    "# Output 1.0\n",
    "# print(z / 0)  # error"
   ]
  },
  {
   "cell_type": "code",
   "execution_count": 33,
   "id": "9f0ad786",
   "metadata": {},
   "outputs": [
    {
     "name": "stdout",
     "output_type": "stream",
     "text": [
      "2.0\n",
      "2\n",
      "1.8181818181818181\n",
      "1.0\n"
     ]
    }
   ],
   "source": [
    "x = 2\n",
    "y = 4\n",
    "z = 2.2\n",
    "\n",
    "# normal division\n",
    "print(y / x)\n",
    "# Output 2.0\n",
    "\n",
    "# floor division to get result as integer\n",
    "print(y // x)\n",
    "# Output 2\n",
    "\n",
    "# normal division\n",
    "print(y / z)  # 1.81\n",
    "\n",
    "# floor division.\n",
    "# Result as float because one argument is float\n",
    "print(y // z)  # 1.0"
   ]
  },
  {
   "cell_type": "code",
   "execution_count": 34,
   "id": "16b6751b",
   "metadata": {},
   "outputs": [
    {
     "name": "stdout",
     "output_type": "stream",
     "text": [
      "3\n"
     ]
    }
   ],
   "source": [
    "x = 15\n",
    "y = 4\n",
    "\n",
    "print(x % y)\n",
    "# Output 3"
   ]
  },
  {
   "cell_type": "code",
   "execution_count": 35,
   "id": "83b6141d",
   "metadata": {},
   "outputs": [
    {
     "name": "stdout",
     "output_type": "stream",
     "text": [
      "4\n",
      "8\n"
     ]
    }
   ],
   "source": [
    "num = 2\n",
    "# 2*2\n",
    "print(num ** 2) \n",
    "# Output 4\n",
    "\n",
    "# 2*2*2\n",
    "print(num ** 3)\n",
    "# Output 8"
   ]
  },
  {
   "cell_type": "code",
   "execution_count": 36,
   "id": "461d3f14",
   "metadata": {},
   "outputs": [
    {
     "name": "stdout",
     "output_type": "stream",
     "text": [
      "True\n",
      "True\n",
      "False\n",
      "True\n",
      "False\n",
      "True\n",
      "True\n",
      "False\n",
      "True\n",
      "True\n",
      "False\n",
      "True\n"
     ]
    }
   ],
   "source": [
    "x = 10\n",
    "y = 5\n",
    "z = 2\n",
    "\n",
    "# > Greater than\n",
    "print(x > y)  # True\n",
    "print(x > y > z)  # True\n",
    "\n",
    "# < Less than\n",
    "print(x < y)  # False\n",
    "print(y < x)  # True\n",
    "\n",
    "# Equal to \n",
    "print(x == y)  # False \n",
    "print(x == 10)  # True \n",
    "\n",
    "# != Not Equal to \n",
    "print(x != y)  # True \n",
    "print(10 != x)  # False \n",
    "\n",
    "# >= Greater than equal to\n",
    "print(x >= y)  # True\n",
    "print(10 >= x)  # True\n",
    "\n",
    "# <= Less than equal to\n",
    "print(x <= y)  # False\n",
    "print(10 <= x)  # True"
   ]
  },
  {
   "cell_type": "code",
   "execution_count": 37,
   "id": "d18bb10b",
   "metadata": {},
   "outputs": [
    {
     "name": "stdout",
     "output_type": "stream",
     "text": [
      "6\n",
      "2\n",
      "8\n",
      "2.0\n",
      "16\n",
      "1\n",
      "2\n"
     ]
    }
   ],
   "source": [
    "a = 4\n",
    "b = 2\n",
    "\n",
    "a += b\n",
    "print(a)  # 6\n",
    "\n",
    "a = 4\n",
    "a -= 2\n",
    "print(a)  # 2\n",
    "\n",
    "a = 4\n",
    "a *= 2\n",
    "print(a)  # 8\n",
    "\n",
    "a = 4\n",
    "a /= 2\n",
    "print(a)  # 2.0\n",
    "\n",
    "a = 4\n",
    "a **= 2\n",
    "print(a)  # 16\n",
    "\n",
    "a = 5\n",
    "a %= 2\n",
    "print(a)  # 1\n",
    "\n",
    "a = 4\n",
    "a //= 2\n",
    "print(a)  # 2"
   ]
  },
  {
   "cell_type": "code",
   "execution_count": 38,
   "id": "40e702f2",
   "metadata": {},
   "outputs": [
    {
     "name": "stdout",
     "output_type": "stream",
     "text": [
      "False\n",
      "True\n",
      "False\n",
      "False\n",
      "8\n"
     ]
    }
   ],
   "source": [
    "print(True and False)  # False\n",
    "# both are True\n",
    "print(True and True)  # True\n",
    "print(False and False)  # False\n",
    "print(False and True)  # false\n",
    "\n",
    "# actual use in code\n",
    "a = 2\n",
    "b = 4\n",
    "\n",
    "# Logical and\n",
    "if a > 0 and b > 0:\n",
    "    # both conditions are true\n",
    "    print(a * b)\n",
    "else:\n",
    "    print(\"Do nothing\")"
   ]
  },
  {
   "cell_type": "code",
   "execution_count": 39,
   "id": "9c9d185b",
   "metadata": {},
   "outputs": [
    {
     "name": "stdout",
     "output_type": "stream",
     "text": [
      "20\n",
      "5\n",
      "300\n"
     ]
    }
   ],
   "source": [
    "print(10 and 20) # 20\n",
    "print(10 and 5)  # 5\n",
    "print(100 and 300) # 300"
   ]
  },
  {
   "cell_type": "code",
   "execution_count": 40,
   "id": "c1e570e6",
   "metadata": {},
   "outputs": [
    {
     "name": "stdout",
     "output_type": "stream",
     "text": [
      "True\n",
      "True\n",
      "False\n",
      "True\n",
      "6\n"
     ]
    }
   ],
   "source": [
    "print(True or False)  # True\n",
    "print(True or True)  # True\n",
    "print(False or False)  # false \n",
    "print(False or True)  # True\n",
    "\n",
    "# actual use in code\n",
    "a = 2\n",
    "b = 4\n",
    "\n",
    "# Logical and\n",
    "if a > 0 or b < 0:\n",
    "    # at least one expression is true so conditions is true\n",
    "    print(a + b)  # 6\n",
    "else:\n",
    "    print(\"Do nothing\")"
   ]
  },
  {
   "cell_type": "code",
   "execution_count": 41,
   "id": "9c98b78a",
   "metadata": {},
   "outputs": [
    {
     "name": "stdout",
     "output_type": "stream",
     "text": [
      "10\n",
      "10\n",
      "100\n"
     ]
    }
   ],
   "source": [
    "print(10 or 20) # 10\n",
    "print(10 or 5) # 10\n",
    "print(100 or 300) # 100"
   ]
  },
  {
   "cell_type": "code",
   "execution_count": 42,
   "id": "0f6741e8",
   "metadata": {},
   "outputs": [
    {
     "name": "stdout",
     "output_type": "stream",
     "text": [
      "True\n",
      "False\n",
      "Do nothing\n"
     ]
    }
   ],
   "source": [
    "print(not False)  # True return complements result\n",
    "print(not True)  # True return complements result\n",
    "\n",
    "# actual use in code\n",
    "a = True\n",
    "\n",
    "# Logical not\n",
    "if not a:\n",
    "    # a is True so expression is False\n",
    "    print(a) \n",
    "else:\n",
    "    print(\"Do nothing\")"
   ]
  },
  {
   "cell_type": "code",
   "execution_count": 43,
   "id": "f4e8220b",
   "metadata": {},
   "outputs": [
    {
     "name": "stdout",
     "output_type": "stream",
     "text": [
      "False\n",
      "False\n",
      "False\n",
      "True\n"
     ]
    }
   ],
   "source": [
    "print(not 10) # False. Non-zero value\n",
    "print(not 1)  # True. Non-zero value\n",
    "print(not 5)  # False. Non-zero value\n",
    "print(not 0)  # True. zero value"
   ]
  },
  {
   "cell_type": "code",
   "execution_count": 44,
   "id": "8d3e84ae",
   "metadata": {},
   "outputs": [
    {
     "name": "stdout",
     "output_type": "stream",
     "text": [
      "number is present\n"
     ]
    }
   ],
   "source": [
    "my_list = [11, 15, 21, 29, 50, 70]\n",
    "number = 15\n",
    "if number in my_list:\n",
    "    print(\"number is present\")\n",
    "else:\n",
    "    print(\"number is not present\")"
   ]
  },
  {
   "cell_type": "code",
   "execution_count": 45,
   "id": "69dc4fa8",
   "metadata": {},
   "outputs": [
    {
     "name": "stdout",
     "output_type": "stream",
     "text": [
      "number is not present\n"
     ]
    }
   ],
   "source": [
    "my_tuple = (11, 15, 21, 29, 50, 70)\n",
    "number = 35\n",
    "if number not in my_tuple:\n",
    "    print(\"number is not present\")\n",
    "else:\n",
    "    print(\"number is present\")"
   ]
  },
  {
   "cell_type": "code",
   "execution_count": 46,
   "id": "7d515c47",
   "metadata": {},
   "outputs": [
    {
     "name": "stdout",
     "output_type": "stream",
     "text": [
      "False\n",
      "True\n"
     ]
    }
   ],
   "source": [
    "x = 10\n",
    "y = 11 \n",
    "z = 10\n",
    "print(x is y) # it compare memory address of x and y \n",
    "print(x is z) # it compare memory address of x and z"
   ]
  },
  {
   "cell_type": "code",
   "execution_count": 47,
   "id": "e0f22389",
   "metadata": {},
   "outputs": [
    {
     "name": "stdout",
     "output_type": "stream",
     "text": [
      "True\n",
      "False\n"
     ]
    }
   ],
   "source": [
    "x = 10\n",
    "y = 11 \n",
    "z = 10\n",
    "print(x is not y) # it campare memory address of x and y \n",
    "print(x is not z) # it campare memory address of x and z"
   ]
  },
  {
   "cell_type": "code",
   "execution_count": 48,
   "id": "d1d89c90",
   "metadata": {},
   "outputs": [
    {
     "name": "stdout",
     "output_type": "stream",
     "text": [
      "4\n",
      "5\n",
      "4\n"
     ]
    }
   ],
   "source": [
    "a = 7\n",
    "b = 4\n",
    "c = 5\n",
    "print(a & b)\n",
    "print(a & c)\n",
    "print(b & c)"
   ]
  },
  {
   "cell_type": "code",
   "execution_count": 49,
   "id": "2aabad0e",
   "metadata": {},
   "outputs": [
    {
     "name": "stdout",
     "output_type": "stream",
     "text": [
      "7\n",
      "7\n",
      "5\n"
     ]
    }
   ],
   "source": [
    "a = 7\n",
    "b = 4\n",
    "c = 5\n",
    "print(a | b)\n",
    "print(a | c)\n",
    "print(b | c)"
   ]
  },
  {
   "cell_type": "code",
   "execution_count": 50,
   "id": "534bd88f",
   "metadata": {},
   "outputs": [
    {
     "name": "stdout",
     "output_type": "stream",
     "text": [
      "2\n",
      "1\n"
     ]
    }
   ],
   "source": [
    "a = 7\n",
    "b = 4\n",
    "c = 5\n",
    "print(a ^ c)\n",
    "print(b ^ c)"
   ]
  },
  {
   "cell_type": "code",
   "execution_count": 51,
   "id": "c9f46829",
   "metadata": {},
   "outputs": [
    {
     "name": "stdout",
     "output_type": "stream",
     "text": [
      "-8 -5 -4\n"
     ]
    }
   ],
   "source": [
    "a = 7\n",
    "b = 4\n",
    "c = 3\n",
    "print(~a, ~b, ~c)\n",
    "# Output -8 -5 -4"
   ]
  },
  {
   "cell_type": "code",
   "execution_count": 52,
   "id": "1e8cae01",
   "metadata": {},
   "outputs": [
    {
     "name": "stdout",
     "output_type": "stream",
     "text": [
      "16\n",
      "40\n"
     ]
    }
   ],
   "source": [
    "print(4 << 2) \n",
    "# Output 16\n",
    "print(5 << 3)\n",
    "# Output 40"
   ]
  },
  {
   "cell_type": "code",
   "execution_count": 53,
   "id": "d0d4ddaa",
   "metadata": {},
   "outputs": [
    {
     "name": "stdout",
     "output_type": "stream",
     "text": [
      "1\n",
      "1\n"
     ]
    }
   ],
   "source": [
    "print(4 >> 2)\n",
    "# Output \n",
    "print(5 >> 2)\n",
    "# Output "
   ]
  },
  {
   "cell_type": "code",
   "execution_count": 54,
   "id": "a429683e",
   "metadata": {},
   "outputs": [
    {
     "name": "stdout",
     "output_type": "stream",
     "text": [
      "24\n"
     ]
    }
   ],
   "source": [
    "print((10 - 4) * 2 +(10+2))\n",
    "# Output 24"
   ]
  },
  {
   "cell_type": "code",
   "execution_count": null,
   "id": "ae765171",
   "metadata": {},
   "outputs": [],
   "source": []
  }
 ],
 "metadata": {
  "kernelspec": {
   "display_name": "Python 3 (ipykernel)",
   "language": "python",
   "name": "python3"
  },
  "language_info": {
   "codemirror_mode": {
    "name": "ipython",
    "version": 3
   },
   "file_extension": ".py",
   "mimetype": "text/x-python",
   "name": "python",
   "nbconvert_exporter": "python",
   "pygments_lexer": "ipython3",
   "version": "3.11.5"
  }
 },
 "nbformat": 4,
 "nbformat_minor": 5
}
