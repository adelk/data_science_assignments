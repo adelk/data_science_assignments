{
 "cells": [
  {
   "cell_type": "code",
   "execution_count": null,
   "id": "94bd99f0",
   "metadata": {},
   "outputs": [],
   "source": [
    "##445106887 Adel Ali Alkhalifi"
   ]
  },
  {
   "cell_type": "code",
   "execution_count": 1,
   "id": "fe329df8",
   "metadata": {},
   "outputs": [
    {
     "name": "stdout",
     "output_type": "stream",
     "text": [
      "445106887, Adel Ali Alkhalifi\n"
     ]
    }
   ],
   "source": [
    "print('445106887 - Adel Ali Alkhalifi')"
   ]
  },
  {
   "cell_type": "code",
   "execution_count": 2,
   "id": "1a8f7b20",
   "metadata": {},
   "outputs": [
    {
     "name": "stdout",
     "output_type": "stream",
     "text": [
      "Hello, World\n"
     ]
    }
   ],
   "source": [
    "print('Hello, World')"
   ]
  },
  {
   "cell_type": "code",
   "execution_count": 2,
   "id": "67d6d656",
   "metadata": {},
   "outputs": [
    {
     "name": "stdout",
     "output_type": "stream",
     "text": [
      "280\n"
     ]
    }
   ],
   "source": [
    "addition = 34 + 56 + \\\n",
    "           12 + 31 + \\\n",
    "           64 + 60 + 10\n",
    "print(addition)"
   ]
  },
  {
   "cell_type": "code",
   "execution_count": 3,
   "id": "3dc0ed80",
   "metadata": {},
   "outputs": [
    {
     "name": "stdout",
     "output_type": "stream",
     "text": [
      "Area of rectangle: 3\n"
     ]
    }
   ],
   "source": [
    "# two statements in a single\n",
    "l = 3; b = 1\n",
    "\n",
    "# statement 3\n",
    "print('Area of rectangle:', l * b)"
   ]
  },
  {
   "cell_type": "code",
   "execution_count": 4,
   "id": "c0766bf8",
   "metadata": {},
   "outputs": [
    {
     "name": "stdout",
     "output_type": "stream",
     "text": [
      "84 is greater than 20\n"
     ]
    }
   ],
   "source": [
    "num1 = 20\n",
    "num2 = 84\n",
    "if num1 > num2:\n",
    "    print(num1, 'is greater than', num2)\n",
    "elif num2 > num1:\n",
    "    print(num2, 'is greater than', num1)\n",
    "else:\n",
    "    print('Both numbers are equal')"
   ]
  },
  {
   "cell_type": "code",
   "execution_count": 6,
   "id": "a02a3038",
   "metadata": {},
   "outputs": [
    {
     "name": "stdout",
     "output_type": "stream",
     "text": [
      "Even number is greater than 100\n"
     ]
    }
   ],
   "source": [
    "num1 = 500\n",
    "if num1 > 100:\n",
    "    if num1 % 2 == 0:\n",
    "        print('Even number is greater than 100')"
   ]
  },
  {
   "cell_type": "code",
   "execution_count": 7,
   "id": "e3512c8c",
   "metadata": {},
   "outputs": [],
   "source": [
    "##445106887 Adel Ali Alkhalifi"
   ]
  },
  {
   "cell_type": "code",
   "execution_count": null,
   "id": "2dfc634c",
   "metadata": {},
   "outputs": [],
   "source": []
  }
 ],
 "metadata": {
  "kernelspec": {
   "display_name": "Python 3 (ipykernel)",
   "language": "python",
   "name": "python3"
  },
  "language_info": {
   "codemirror_mode": {
    "name": "ipython",
    "version": 3
   },
   "file_extension": ".py",
   "mimetype": "text/x-python",
   "name": "python",
   "nbconvert_exporter": "python",
   "pygments_lexer": "ipython3",
   "version": "3.11.5"
  }
 },
 "nbformat": 4,
 "nbformat_minor": 5
}
